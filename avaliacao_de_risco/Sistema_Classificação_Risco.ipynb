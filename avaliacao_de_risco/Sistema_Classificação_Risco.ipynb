{
 "cells": [
  {
   "cell_type": "markdown",
   "metadata": {
    "id": "7oiQVQi0AJ6D"
   },
   "source": [
    "# <font color='Blue'>Sistema de Classificação de Risco para Concessão de Empréstimos</font>"
   ]
  },
  {
   "cell_type": "markdown",
   "metadata": {
    "id": "Eny3aIZaku8i"
   },
   "source": [
    "## 1° Problema de negócios"
   ]
  },
  {
   "cell_type": "markdown",
   "metadata": {
    "id": "7K8qMC313GIW"
   },
   "source": [
    "Precisamos construir um sistema de classificação de risco do cliente para aprovação de empréstimos."
   ]
  },
  {
   "cell_type": "markdown",
   "metadata": {
    "id": "Fsv_E3STqmTg"
   },
   "source": [
    "##### **Fonte dos Dados**"
   ]
  },
  {
   "cell_type": "markdown",
   "metadata": {
    "id": "GFLspIFTEeJN"
   },
   "source": [
    "Usaremos a base de dados \"**risco.csv**\" originada por meio dos dados da **UCI Machine Learning**.\n",
    "\n",
    "**Link**: https://archive.ics.uci.edu/ml/index.php"
   ]
  },
  {
   "cell_type": "markdown",
   "metadata": {
    "id": "C4PaRjZAqwmx"
   },
   "source": [
    "###### **Arquitetura dos Dados** (AD)\n",
    "\n",
    "* **id_cliente**  : Número de identificação única do cliente\n",
    "* **inad**        : Índice de inadimplência do cliente\n",
    "* **Saldo_contas**: Índice referente aos saldos das contas corrente, poupança e aplicações do cliente\n",
    "* **Class_Renda** : Índice referente à classificação do cliente de acordo com sua renda.\n",
    "* **Anotações**   : Índice referente às anotações externas à empresa, tais como anotações SERASA / SPC / BACEN \n",
    "* **Risco**       : Risco do Cliente atribuído dadas as variáveis de análise do cliente"
   ]
  },
  {
   "cell_type": "markdown",
   "metadata": {
    "id": "-O1cmFgSku8j"
   },
   "source": [
    "## 2° Análise Exploratória dos Dados"
   ]
  },
  {
   "cell_type": "code",
   "execution_count": 1,
   "metadata": {
    "id": "6BZ-jLOunczC"
   },
   "outputs": [],
   "source": [
    "# Importando Bibliotecas Essenciais\n",
    "\n",
    "import pandas as pd\n",
    "import numpy as np\n",
    "import matplotlib.pyplot as plt\n",
    "import seaborn as sns\n",
    "sns.set()\n",
    "%matplotlib inline\n",
    "\n",
    "from sklearn.metrics import confusion_matrix, classification_report,accuracy_score"
   ]
  },
  {
   "cell_type": "code",
   "execution_count": 2,
   "metadata": {
    "id": "WKtERLr9n09B"
   },
   "outputs": [],
   "source": [
    "# Carregando os dados\n",
    "dataset = pd.read_csv('risco.csv')"
   ]
  },
  {
   "cell_type": "code",
   "execution_count": 3,
   "metadata": {
    "colab": {
     "base_uri": "https://localhost:8080/",
     "height": 198
    },
    "id": "lB0QoX8n3BEs",
    "outputId": "11cc829a-953a-4d64-c113-7b02a832d896"
   },
   "outputs": [
    {
     "data": {
      "text/html": [
       "<div>\n",
       "<style scoped>\n",
       "    .dataframe tbody tr th:only-of-type {\n",
       "        vertical-align: middle;\n",
       "    }\n",
       "\n",
       "    .dataframe tbody tr th {\n",
       "        vertical-align: top;\n",
       "    }\n",
       "\n",
       "    .dataframe thead th {\n",
       "        text-align: right;\n",
       "    }\n",
       "</style>\n",
       "<table border=\"1\" class=\"dataframe\">\n",
       "  <thead>\n",
       "    <tr style=\"text-align: right;\">\n",
       "      <th></th>\n",
       "      <th>id_cliente</th>\n",
       "      <th>anot_cadastrais</th>\n",
       "      <th>indice_inad</th>\n",
       "      <th>class_renda</th>\n",
       "      <th>saldo_contas</th>\n",
       "      <th>Risco</th>\n",
       "    </tr>\n",
       "  </thead>\n",
       "  <tbody>\n",
       "    <tr>\n",
       "      <th>0</th>\n",
       "      <td>0</td>\n",
       "      <td>5.1</td>\n",
       "      <td>3.5</td>\n",
       "      <td>1.4</td>\n",
       "      <td>0.2</td>\n",
       "      <td>Risco_Alto</td>\n",
       "    </tr>\n",
       "    <tr>\n",
       "      <th>1</th>\n",
       "      <td>1</td>\n",
       "      <td>4.9</td>\n",
       "      <td>3.0</td>\n",
       "      <td>1.4</td>\n",
       "      <td>0.2</td>\n",
       "      <td>Risco_Alto</td>\n",
       "    </tr>\n",
       "    <tr>\n",
       "      <th>2</th>\n",
       "      <td>2</td>\n",
       "      <td>4.7</td>\n",
       "      <td>3.2</td>\n",
       "      <td>1.3</td>\n",
       "      <td>0.2</td>\n",
       "      <td>Risco_Alto</td>\n",
       "    </tr>\n",
       "    <tr>\n",
       "      <th>3</th>\n",
       "      <td>3</td>\n",
       "      <td>4.6</td>\n",
       "      <td>3.1</td>\n",
       "      <td>1.5</td>\n",
       "      <td>0.2</td>\n",
       "      <td>Risco_Alto</td>\n",
       "    </tr>\n",
       "    <tr>\n",
       "      <th>4</th>\n",
       "      <td>4</td>\n",
       "      <td>5.0</td>\n",
       "      <td>3.6</td>\n",
       "      <td>1.4</td>\n",
       "      <td>0.2</td>\n",
       "      <td>Risco_Alto</td>\n",
       "    </tr>\n",
       "    <tr>\n",
       "      <th>5</th>\n",
       "      <td>5</td>\n",
       "      <td>5.4</td>\n",
       "      <td>3.9</td>\n",
       "      <td>1.7</td>\n",
       "      <td>0.4</td>\n",
       "      <td>Risco_Alto</td>\n",
       "    </tr>\n",
       "    <tr>\n",
       "      <th>6</th>\n",
       "      <td>6</td>\n",
       "      <td>4.6</td>\n",
       "      <td>3.4</td>\n",
       "      <td>1.4</td>\n",
       "      <td>0.3</td>\n",
       "      <td>Risco_Alto</td>\n",
       "    </tr>\n",
       "    <tr>\n",
       "      <th>7</th>\n",
       "      <td>7</td>\n",
       "      <td>5.0</td>\n",
       "      <td>3.4</td>\n",
       "      <td>1.5</td>\n",
       "      <td>0.2</td>\n",
       "      <td>Risco_Alto</td>\n",
       "    </tr>\n",
       "    <tr>\n",
       "      <th>8</th>\n",
       "      <td>8</td>\n",
       "      <td>4.4</td>\n",
       "      <td>2.9</td>\n",
       "      <td>1.4</td>\n",
       "      <td>0.2</td>\n",
       "      <td>Risco_Alto</td>\n",
       "    </tr>\n",
       "    <tr>\n",
       "      <th>9</th>\n",
       "      <td>9</td>\n",
       "      <td>4.9</td>\n",
       "      <td>3.1</td>\n",
       "      <td>1.5</td>\n",
       "      <td>0.1</td>\n",
       "      <td>Risco_Alto</td>\n",
       "    </tr>\n",
       "  </tbody>\n",
       "</table>\n",
       "</div>"
      ],
      "text/plain": [
       "   id_cliente  anot_cadastrais  indice_inad  class_renda  saldo_contas  \\\n",
       "0           0              5.1          3.5          1.4           0.2   \n",
       "1           1              4.9          3.0          1.4           0.2   \n",
       "2           2              4.7          3.2          1.3           0.2   \n",
       "3           3              4.6          3.1          1.5           0.2   \n",
       "4           4              5.0          3.6          1.4           0.2   \n",
       "5           5              5.4          3.9          1.7           0.4   \n",
       "6           6              4.6          3.4          1.4           0.3   \n",
       "7           7              5.0          3.4          1.5           0.2   \n",
       "8           8              4.4          2.9          1.4           0.2   \n",
       "9           9              4.9          3.1          1.5           0.1   \n",
       "\n",
       "        Risco  \n",
       "0  Risco_Alto  \n",
       "1  Risco_Alto  \n",
       "2  Risco_Alto  \n",
       "3  Risco_Alto  \n",
       "4  Risco_Alto  \n",
       "5  Risco_Alto  \n",
       "6  Risco_Alto  \n",
       "7  Risco_Alto  \n",
       "8  Risco_Alto  \n",
       "9  Risco_Alto  "
      ]
     },
     "execution_count": 3,
     "metadata": {},
     "output_type": "execute_result"
    }
   ],
   "source": [
    "# Verificando os primeiros registros\n",
    "dataset.head(10)"
   ]
  },
  {
   "cell_type": "code",
   "execution_count": 4,
   "metadata": {
    "colab": {
     "base_uri": "https://localhost:8080/"
    },
    "id": "FSLSYaIfHxo8",
    "outputId": "500b9d93-9313-49b4-aeff-4fd396e96673"
   },
   "outputs": [
    {
     "name": "stdout",
     "output_type": "stream",
     "text": [
      "<class 'pandas.core.frame.DataFrame'>\n",
      "RangeIndex: 150 entries, 0 to 149\n",
      "Data columns (total 6 columns):\n",
      " #   Column           Non-Null Count  Dtype  \n",
      "---  ------           --------------  -----  \n",
      " 0   id_cliente       150 non-null    int64  \n",
      " 1   anot_cadastrais  150 non-null    float64\n",
      " 2   indice_inad      150 non-null    float64\n",
      " 3   class_renda      150 non-null    float64\n",
      " 4   saldo_contas     150 non-null    float64\n",
      " 5   Risco            150 non-null    object \n",
      "dtypes: float64(4), int64(1), object(1)\n",
      "memory usage: 7.2+ KB\n"
     ]
    }
   ],
   "source": [
    "# Informações do dataset\n",
    "dataset.info()"
   ]
  },
  {
   "cell_type": "code",
   "execution_count": 5,
   "metadata": {
    "colab": {
     "base_uri": "https://localhost:8080/"
    },
    "id": "DA8sCmcbcrhN",
    "outputId": "6e521de4-031e-4a37-ee23-d0ec3a54f1f1"
   },
   "outputs": [
    {
     "data": {
      "text/plain": [
       "(150, 6)"
      ]
     },
     "execution_count": 5,
     "metadata": {},
     "output_type": "execute_result"
    }
   ],
   "source": [
    "# Verificando as dimensões do dataset\n",
    "dataset.shape"
   ]
  },
  {
   "cell_type": "code",
   "execution_count": 6,
   "metadata": {
    "colab": {
     "base_uri": "https://localhost:8080/",
     "height": 288
    },
    "id": "2G8LjcZ4b_po",
    "outputId": "284de085-b266-4090-d589-1c4c5b8a2b83"
   },
   "outputs": [
    {
     "data": {
      "text/html": [
       "<div>\n",
       "<style scoped>\n",
       "    .dataframe tbody tr th:only-of-type {\n",
       "        vertical-align: middle;\n",
       "    }\n",
       "\n",
       "    .dataframe tbody tr th {\n",
       "        vertical-align: top;\n",
       "    }\n",
       "\n",
       "    .dataframe thead th {\n",
       "        text-align: right;\n",
       "    }\n",
       "</style>\n",
       "<table border=\"1\" class=\"dataframe\">\n",
       "  <thead>\n",
       "    <tr style=\"text-align: right;\">\n",
       "      <th></th>\n",
       "      <th>id_cliente</th>\n",
       "      <th>anot_cadastrais</th>\n",
       "      <th>indice_inad</th>\n",
       "      <th>class_renda</th>\n",
       "      <th>saldo_contas</th>\n",
       "    </tr>\n",
       "  </thead>\n",
       "  <tbody>\n",
       "    <tr>\n",
       "      <th>count</th>\n",
       "      <td>150.000000</td>\n",
       "      <td>150.000000</td>\n",
       "      <td>150.000000</td>\n",
       "      <td>150.000000</td>\n",
       "      <td>150.000000</td>\n",
       "    </tr>\n",
       "    <tr>\n",
       "      <th>mean</th>\n",
       "      <td>74.500000</td>\n",
       "      <td>5.843333</td>\n",
       "      <td>3.054000</td>\n",
       "      <td>3.758667</td>\n",
       "      <td>1.198667</td>\n",
       "    </tr>\n",
       "    <tr>\n",
       "      <th>std</th>\n",
       "      <td>43.445368</td>\n",
       "      <td>0.828066</td>\n",
       "      <td>0.433594</td>\n",
       "      <td>1.764420</td>\n",
       "      <td>0.763161</td>\n",
       "    </tr>\n",
       "    <tr>\n",
       "      <th>min</th>\n",
       "      <td>0.000000</td>\n",
       "      <td>4.300000</td>\n",
       "      <td>2.000000</td>\n",
       "      <td>1.000000</td>\n",
       "      <td>0.100000</td>\n",
       "    </tr>\n",
       "    <tr>\n",
       "      <th>25%</th>\n",
       "      <td>37.250000</td>\n",
       "      <td>5.100000</td>\n",
       "      <td>2.800000</td>\n",
       "      <td>1.600000</td>\n",
       "      <td>0.300000</td>\n",
       "    </tr>\n",
       "    <tr>\n",
       "      <th>50%</th>\n",
       "      <td>74.500000</td>\n",
       "      <td>5.800000</td>\n",
       "      <td>3.000000</td>\n",
       "      <td>4.350000</td>\n",
       "      <td>1.300000</td>\n",
       "    </tr>\n",
       "    <tr>\n",
       "      <th>75%</th>\n",
       "      <td>111.750000</td>\n",
       "      <td>6.400000</td>\n",
       "      <td>3.300000</td>\n",
       "      <td>5.100000</td>\n",
       "      <td>1.800000</td>\n",
       "    </tr>\n",
       "    <tr>\n",
       "      <th>max</th>\n",
       "      <td>149.000000</td>\n",
       "      <td>7.900000</td>\n",
       "      <td>4.400000</td>\n",
       "      <td>6.900000</td>\n",
       "      <td>2.500000</td>\n",
       "    </tr>\n",
       "  </tbody>\n",
       "</table>\n",
       "</div>"
      ],
      "text/plain": [
       "       id_cliente  anot_cadastrais  indice_inad  class_renda  saldo_contas\n",
       "count  150.000000       150.000000   150.000000   150.000000    150.000000\n",
       "mean    74.500000         5.843333     3.054000     3.758667      1.198667\n",
       "std     43.445368         0.828066     0.433594     1.764420      0.763161\n",
       "min      0.000000         4.300000     2.000000     1.000000      0.100000\n",
       "25%     37.250000         5.100000     2.800000     1.600000      0.300000\n",
       "50%     74.500000         5.800000     3.000000     4.350000      1.300000\n",
       "75%    111.750000         6.400000     3.300000     5.100000      1.800000\n",
       "max    149.000000         7.900000     4.400000     6.900000      2.500000"
      ]
     },
     "execution_count": 6,
     "metadata": {},
     "output_type": "execute_result"
    }
   ],
   "source": [
    "# Estatísticas descritivas das variáveis numéricas\n",
    "dataset.describe()"
   ]
  },
  {
   "cell_type": "code",
   "execution_count": 7,
   "metadata": {
    "colab": {
     "base_uri": "https://localhost:8080/"
    },
    "id": "Xao3kHmycFGK",
    "outputId": "29380937-72cf-4a14-a8a8-b5951b83cfee"
   },
   "outputs": [
    {
     "data": {
      "text/plain": [
       "Risco_Alto     50\n",
       "Risco_Baixo    50\n",
       "Risco_Medio    50\n",
       "Name: Risco, dtype: int64"
      ]
     },
     "execution_count": 7,
     "metadata": {},
     "output_type": "execute_result"
    }
   ],
   "source": [
    "# Tabela de frequência da variável Risco\n",
    "dataset['Risco'].value_counts()"
   ]
  },
  {
   "cell_type": "code",
   "execution_count": 8,
   "metadata": {
    "colab": {
     "base_uri": "https://localhost:8080/",
     "height": 352
    },
    "id": "1fncTNJ136vB",
    "outputId": "d67d0c63-1d42-402a-dd8a-df537e4e05bb"
   },
   "outputs": [
    {
     "name": "stderr",
     "output_type": "stream",
     "text": [
      "C:\\Users\\belli\\anaconda3\\lib\\site-packages\\seaborn\\_decorators.py:36: FutureWarning: Pass the following variable as a keyword arg: x. From version 0.12, the only valid positional argument will be `data`, and passing other arguments without an explicit keyword will result in an error or misinterpretation.\n",
      "  warnings.warn(\n"
     ]
    },
    {
     "data": {
      "text/plain": [
       "<AxesSubplot:xlabel='Risco', ylabel='count'>"
      ]
     },
     "execution_count": 8,
     "metadata": {},
     "output_type": "execute_result"
    },
    {
     "data": {
      "image/png": "[encoded data removed]",
      "text/plain": [
       "<Figure size 432x288 with 1 Axes>"
      ]
     },
     "metadata": {
      "needs_background": "light"
     },
     "output_type": "display_data"
    }
   ],
   "source": [
    "# Cria um gráfico de barras da variável Target\n",
    "sns.countplot(dataset['Risco'])"
   ]
  },
  {
   "cell_type": "code",
   "execution_count": 9,
   "metadata": {
    "colab": {
     "base_uri": "https://localhost:8080/"
    },
    "id": "Pr-7J--Db_14",
    "outputId": "0e5d5879-cc7c-47fe-8217-d46af0aa283a"
   },
   "outputs": [
    {
     "data": {
      "text/plain": [
       "id_cliente         0\n",
       "anot_cadastrais    0\n",
       "indice_inad        0\n",
       "class_renda        0\n",
       "saldo_contas       0\n",
       "Risco              0\n",
       "dtype: int64"
      ]
     },
     "execution_count": 9,
     "metadata": {},
     "output_type": "execute_result"
    }
   ],
   "source": [
    "# Contando o número de valores nulos\n",
    "dataset.isna().sum()"
   ]
  },
  {
   "cell_type": "code",
   "execution_count": 10,
   "metadata": {
    "id": "uduJWrPw-0YB"
   },
   "outputs": [],
   "source": [
    "# Eliminar a coluna de identificação, pois ela não é variável explicativa, é somente a identificação do cliente\n",
    "dataset = dataset.drop(columns='id_cliente')"
   ]
  },
  {
   "cell_type": "code",
   "execution_count": 11,
   "metadata": {
    "colab": {
     "base_uri": "https://localhost:8080/",
     "height": 408
    },
    "id": "i2w2ikIl_IGf",
    "outputId": "5c252f55-7ea8-45c9-f1b6-3694fc6262fb"
   },
   "outputs": [
    {
     "data": {
      "text/html": [
       "<div>\n",
       "<style scoped>\n",
       "    .dataframe tbody tr th:only-of-type {\n",
       "        vertical-align: middle;\n",
       "    }\n",
       "\n",
       "    .dataframe tbody tr th {\n",
       "        vertical-align: top;\n",
       "    }\n",
       "\n",
       "    .dataframe thead th {\n",
       "        text-align: right;\n",
       "    }\n",
       "</style>\n",
       "<table border=\"1\" class=\"dataframe\">\n",
       "  <thead>\n",
       "    <tr style=\"text-align: right;\">\n",
       "      <th></th>\n",
       "      <th>anot_cadastrais</th>\n",
       "      <th>indice_inad</th>\n",
       "      <th>class_renda</th>\n",
       "      <th>saldo_contas</th>\n",
       "      <th>Risco</th>\n",
       "    </tr>\n",
       "  </thead>\n",
       "  <tbody>\n",
       "    <tr>\n",
       "      <th>0</th>\n",
       "      <td>5.1</td>\n",
       "      <td>3.5</td>\n",
       "      <td>1.4</td>\n",
       "      <td>0.2</td>\n",
       "      <td>Risco_Alto</td>\n",
       "    </tr>\n",
       "    <tr>\n",
       "      <th>1</th>\n",
       "      <td>4.9</td>\n",
       "      <td>3.0</td>\n",
       "      <td>1.4</td>\n",
       "      <td>0.2</td>\n",
       "      <td>Risco_Alto</td>\n",
       "    </tr>\n",
       "    <tr>\n",
       "      <th>2</th>\n",
       "      <td>4.7</td>\n",
       "      <td>3.2</td>\n",
       "      <td>1.3</td>\n",
       "      <td>0.2</td>\n",
       "      <td>Risco_Alto</td>\n",
       "    </tr>\n",
       "    <tr>\n",
       "      <th>3</th>\n",
       "      <td>4.6</td>\n",
       "      <td>3.1</td>\n",
       "      <td>1.5</td>\n",
       "      <td>0.2</td>\n",
       "      <td>Risco_Alto</td>\n",
       "    </tr>\n",
       "    <tr>\n",
       "      <th>4</th>\n",
       "      <td>5.0</td>\n",
       "      <td>3.6</td>\n",
       "      <td>1.4</td>\n",
       "      <td>0.2</td>\n",
       "      <td>Risco_Alto</td>\n",
       "    </tr>\n",
       "    <tr>\n",
       "      <th>...</th>\n",
       "      <td>...</td>\n",
       "      <td>...</td>\n",
       "      <td>...</td>\n",
       "      <td>...</td>\n",
       "      <td>...</td>\n",
       "    </tr>\n",
       "    <tr>\n",
       "      <th>145</th>\n",
       "      <td>6.7</td>\n",
       "      <td>3.0</td>\n",
       "      <td>5.2</td>\n",
       "      <td>2.3</td>\n",
       "      <td>Risco_Baixo</td>\n",
       "    </tr>\n",
       "    <tr>\n",
       "      <th>146</th>\n",
       "      <td>6.3</td>\n",
       "      <td>2.5</td>\n",
       "      <td>5.0</td>\n",
       "      <td>1.9</td>\n",
       "      <td>Risco_Baixo</td>\n",
       "    </tr>\n",
       "    <tr>\n",
       "      <th>147</th>\n",
       "      <td>6.5</td>\n",
       "      <td>3.0</td>\n",
       "      <td>5.2</td>\n",
       "      <td>2.0</td>\n",
       "      <td>Risco_Baixo</td>\n",
       "    </tr>\n",
       "    <tr>\n",
       "      <th>148</th>\n",
       "      <td>6.2</td>\n",
       "      <td>3.4</td>\n",
       "      <td>5.4</td>\n",
       "      <td>2.3</td>\n",
       "      <td>Risco_Baixo</td>\n",
       "    </tr>\n",
       "    <tr>\n",
       "      <th>149</th>\n",
       "      <td>5.9</td>\n",
       "      <td>3.0</td>\n",
       "      <td>5.1</td>\n",
       "      <td>1.8</td>\n",
       "      <td>Risco_Baixo</td>\n",
       "    </tr>\n",
       "  </tbody>\n",
       "</table>\n",
       "<p>150 rows × 5 columns</p>\n",
       "</div>"
      ],
      "text/plain": [
       "     anot_cadastrais  indice_inad  class_renda  saldo_contas        Risco\n",
       "0                5.1          3.5          1.4           0.2   Risco_Alto\n",
       "1                4.9          3.0          1.4           0.2   Risco_Alto\n",
       "2                4.7          3.2          1.3           0.2   Risco_Alto\n",
       "3                4.6          3.1          1.5           0.2   Risco_Alto\n",
       "4                5.0          3.6          1.4           0.2   Risco_Alto\n",
       "..               ...          ...          ...           ...          ...\n",
       "145              6.7          3.0          5.2           2.3  Risco_Baixo\n",
       "146              6.3          2.5          5.0           1.9  Risco_Baixo\n",
       "147              6.5          3.0          5.2           2.0  Risco_Baixo\n",
       "148              6.2          3.4          5.4           2.3  Risco_Baixo\n",
       "149              5.9          3.0          5.1           1.8  Risco_Baixo\n",
       "\n",
       "[150 rows x 5 columns]"
      ]
     },
     "execution_count": 11,
     "metadata": {},
     "output_type": "execute_result"
    }
   ],
   "source": [
    "# Printando o dataset\n",
    "dataset"
   ]
  },
  {
   "cell_type": "code",
   "execution_count": 12,
   "metadata": {
    "colab": {
     "base_uri": "https://localhost:8080/",
     "height": 268
    },
    "id": "DfFSzpSMAoFU",
    "outputId": "f33bd975-812f-40ce-9fbe-73ecd56db979"
   },
   "outputs": [
    {
     "data": {
      "image/png": "[encoded data removed]",
      "text/plain": [
       "<Figure size 432x288 with 4 Axes>"
      ]
     },
     "metadata": {
      "needs_background": "light"
     },
     "output_type": "display_data"
    }
   ],
   "source": [
    "# Criando um gráfico boxplot\n",
    "dataset.plot(kind='box', subplots=True, layout=(2,2), sharex=False, sharey=False)\n",
    "plt.show()"
   ]
  },
  {
   "cell_type": "code",
   "execution_count": 13,
   "metadata": {
    "colab": {
     "base_uri": "https://localhost:8080/",
     "height": 281
    },
    "id": "89wQbfgzBqQS",
    "outputId": "fdbf2d3d-afc8-4e10-f14a-2e7b5e2505da"
   },
   "outputs": [
    {
     "data": {
      "image/png": "[encoded data removed]",
      "text/plain": [
       "<Figure size 432x288 with 4 Axes>"
      ]
     },
     "metadata": {
      "needs_background": "light"
     },
     "output_type": "display_data"
    }
   ],
   "source": [
    "# Criando um histohrama\n",
    "dataset.hist(grid=False)\n",
    "plt.show()"
   ]
  },
  {
   "cell_type": "code",
   "execution_count": 14,
   "metadata": {
    "colab": {
     "base_uri": "https://localhost:8080/",
     "height": 743
    },
    "id": "p_dvoe928qrU",
    "outputId": "7adefea5-b680-47b8-a690-d9e8391767d9"
   },
   "outputs": [
    {
     "data": {
      "text/plain": [
       "<seaborn.axisgrid.PairGrid at 0x1bbf99a03d0>"
      ]
     },
     "execution_count": 14,
     "metadata": {},
     "output_type": "execute_result"
    },
    {
     "data": {
      "image/png": "[encoded data removed]",
      "text/plain": [
       "<Figure size 823.35x720 with 20 Axes>"
      ]
     },
     "metadata": {
      "needs_background": "light"
     },
     "output_type": "display_data"
    }
   ],
   "source": [
    "# Criação do gráfico de dispersão\n",
    "sns.pairplot(dataset, hue='Risco', kind=\"reg\")\n",
    "\n",
    "# kind=reg é a reta de regressão\n",
    "# hue='Risco' é para dividir em cores os grupos de risco"
   ]
  },
  {
   "cell_type": "markdown",
   "metadata": {
    "id": "DM2nuyRTku81"
   },
   "source": [
    "## 3° Pré-Processamento dos Dados"
   ]
  },
  {
   "cell_type": "code",
   "execution_count": 15,
   "metadata": {
    "id": "G5WuUWRFn4j8"
   },
   "outputs": [],
   "source": [
    "#3 Separando as Variáveis de Entrada e Saída do Modelo\n",
    "X = dataset.iloc[:,:-1].values  #variáveis independentes\n",
    "y = dataset.iloc[:,-1].values  #Target/labe/class/vairável dependente"
   ]
  },
  {
   "cell_type": "code",
   "execution_count": 16,
   "metadata": {
    "colab": {
     "base_uri": "https://localhost:8080/"
    },
    "id": "-bZ82kVbn7Ga",
    "outputId": "dfd104b0-4ade-43f5-cc54-89e5968d4b7b"
   },
   "outputs": [
    {
     "name": "stdout",
     "output_type": "stream",
     "text": [
      "\n",
      "Variáveis de Entrada da avaliação:\n",
      "\n",
      " [[5.1 3.5 1.4 0.2]\n",
      " [4.9 3.  1.4 0.2]\n",
      " [4.7 3.2 1.3 0.2]\n",
      " [4.6 3.1 1.5 0.2]\n",
      " [5.  3.6 1.4 0.2]\n",
      " [5.4 3.9 1.7 0.4]\n",
      " [4.6 3.4 1.4 0.3]\n",
      " [5.  3.4 1.5 0.2]\n",
      " [4.4 2.9 1.4 0.2]\n",
      " [4.9 3.1 1.5 0.1]\n",
      " [5.4 3.7 1.5 0.2]\n",
      " [4.8 3.4 1.6 0.2]\n",
      " [4.8 3.  1.4 0.1]\n",
      " [4.3 3.  1.1 0.1]\n",
      " [5.8 4.  1.2 0.2]\n",
      " [5.7 4.4 1.5 0.4]\n",
      " [5.4 3.9 1.3 0.4]\n",
      " [5.1 3.5 1.4 0.3]\n",
      " [5.7 3.8 1.7 0.3]\n",
      " [5.1 3.8 1.5 0.3]\n",
      " [5.4 3.4 1.7 0.2]\n",
      " [5.1 3.7 1.5 0.4]\n",
      " [4.6 3.6 1.  0.2]\n",
      " [5.1 3.3 1.7 0.5]\n",
      " [4.8 3.4 1.9 0.2]\n",
      " [5.  3.  1.6 0.2]\n",
      " [5.  3.4 1.6 0.4]\n",
      " [5.2 3.5 1.5 0.2]\n",
      " [5.2 3.4 1.4 0.2]\n",
      " [4.7 3.2 1.6 0.2]\n",
      " [4.8 3.1 1.6 0.2]\n",
      " [5.4 3.4 1.5 0.4]\n",
      " [5.2 4.1 1.5 0.1]\n",
      " [5.5 4.2 1.4 0.2]\n",
      " [4.9 3.1 1.5 0.1]\n",
      " [5.  3.2 1.2 0.2]\n",
      " [5.5 3.5 1.3 0.2]\n",
      " [4.9 3.1 1.5 0.1]\n",
      " [4.4 3.  1.3 0.2]\n",
      " [5.1 3.4 1.5 0.2]\n",
      " [5.  3.5 1.3 0.3]\n",
      " [4.5 2.3 1.3 0.3]\n",
      " [4.4 3.2 1.3 0.2]\n",
      " [5.  3.5 1.6 0.6]\n",
      " [5.1 3.8 1.9 0.4]\n",
      " [4.8 3.  1.4 0.3]\n",
      " [5.1 3.8 1.6 0.2]\n",
      " [4.6 3.2 1.4 0.2]\n",
      " [5.3 3.7 1.5 0.2]\n",
      " [5.  3.3 1.4 0.2]\n",
      " [7.  3.2 4.7 1.4]\n",
      " [6.4 3.2 4.5 1.5]\n",
      " [6.9 3.1 4.9 1.5]\n",
      " [5.5 2.3 4.  1.3]\n",
      " [6.5 2.8 4.6 1.5]\n",
      " [5.7 2.8 4.5 1.3]\n",
      " [6.3 3.3 4.7 1.6]\n",
      " [4.9 2.4 3.3 1. ]\n",
      " [6.6 2.9 4.6 1.3]\n",
      " [5.2 2.7 3.9 1.4]\n",
      " [5.  2.  3.5 1. ]\n",
      " [5.9 3.  4.2 1.5]\n",
      " [6.  2.2 4.  1. ]\n",
      " [6.1 2.9 4.7 1.4]\n",
      " [5.6 2.9 3.6 1.3]\n",
      " [6.7 3.1 4.4 1.4]\n",
      " [5.6 3.  4.5 1.5]\n",
      " [5.8 2.7 4.1 1. ]\n",
      " [6.2 2.2 4.5 1.5]\n",
      " [5.6 2.5 3.9 1.1]\n",
      " [5.9 3.2 4.8 1.8]\n",
      " [6.1 2.8 4.  1.3]\n",
      " [6.3 2.5 4.9 1.5]\n",
      " [6.1 2.8 4.7 1.2]\n",
      " [6.4 2.9 4.3 1.3]\n",
      " [6.6 3.  4.4 1.4]\n",
      " [6.8 2.8 4.8 1.4]\n",
      " [6.7 3.  5.  1.7]\n",
      " [6.  2.9 4.5 1.5]\n",
      " [5.7 2.6 3.5 1. ]\n",
      " [5.5 2.4 3.8 1.1]\n",
      " [5.5 2.4 3.7 1. ]\n",
      " [5.8 2.7 3.9 1.2]\n",
      " [6.  2.7 5.1 1.6]\n",
      " [5.4 3.  4.5 1.5]\n",
      " [6.  3.4 4.5 1.6]\n",
      " [6.7 3.1 4.7 1.5]\n",
      " [6.3 2.3 4.4 1.3]\n",
      " [5.6 3.  4.1 1.3]\n",
      " [5.5 2.5 4.  1.3]\n",
      " [5.5 2.6 4.4 1.2]\n",
      " [6.1 3.  4.6 1.4]\n",
      " [5.8 2.6 4.  1.2]\n",
      " [5.  2.3 3.3 1. ]\n",
      " [5.6 2.7 4.2 1.3]\n",
      " [5.7 3.  4.2 1.2]\n",
      " [5.7 2.9 4.2 1.3]\n",
      " [6.2 2.9 4.3 1.3]\n",
      " [5.1 2.5 3.  1.1]\n",
      " [5.7 2.8 4.1 1.3]\n",
      " [6.3 3.3 6.  2.5]\n",
      " [5.8 2.7 5.1 1.9]\n",
      " [7.1 3.  5.9 2.1]\n",
      " [6.3 2.9 5.6 1.8]\n",
      " [6.5 3.  5.8 2.2]\n",
      " [7.6 3.  6.6 2.1]\n",
      " [4.9 2.5 4.5 1.7]\n",
      " [7.3 2.9 6.3 1.8]\n",
      " [6.7 2.5 5.8 1.8]\n",
      " [7.2 3.6 6.1 2.5]\n",
      " [6.5 3.2 5.1 2. ]\n",
      " [6.4 2.7 5.3 1.9]\n",
      " [6.8 3.  5.5 2.1]\n",
      " [5.7 2.5 5.  2. ]\n",
      " [5.8 2.8 5.1 2.4]\n",
      " [6.4 3.2 5.3 2.3]\n",
      " [6.5 3.  5.5 1.8]\n",
      " [7.7 3.8 6.7 2.2]\n",
      " [7.7 2.6 6.9 2.3]\n",
      " [6.  2.2 5.  1.5]\n",
      " [6.9 3.2 5.7 2.3]\n",
      " [5.6 2.8 4.9 2. ]\n",
      " [7.7 2.8 6.7 2. ]\n",
      " [6.3 2.7 4.9 1.8]\n",
      " [6.7 3.3 5.7 2.1]\n",
      " [7.2 3.2 6.  1.8]\n",
      " [6.2 2.8 4.8 1.8]\n",
      " [6.1 3.  4.9 1.8]\n",
      " [6.4 2.8 5.6 2.1]\n",
      " [7.2 3.  5.8 1.6]\n",
      " [7.4 2.8 6.1 1.9]\n",
      " [7.9 3.8 6.4 2. ]\n",
      " [6.4 2.8 5.6 2.2]\n",
      " [6.3 2.8 5.1 1.5]\n",
      " [6.1 2.6 5.6 1.4]\n",
      " [7.7 3.  6.1 2.3]\n",
      " [6.3 3.4 5.6 2.4]\n",
      " [6.4 3.1 5.5 1.8]\n",
      " [6.  3.  4.8 1.8]\n",
      " [6.9 3.1 5.4 2.1]\n",
      " [6.7 3.1 5.6 2.4]\n",
      " [6.9 3.1 5.1 2.3]\n",
      " [5.8 2.7 5.1 1.9]\n",
      " [6.8 3.2 5.9 2.3]\n",
      " [6.7 3.3 5.7 2.5]\n",
      " [6.7 3.  5.2 2.3]\n",
      " [6.3 2.5 5.  1.9]\n",
      " [6.5 3.  5.2 2. ]\n",
      " [6.2 3.4 5.4 2.3]\n",
      " [5.9 3.  5.1 1.8]]\n",
      "\n",
      "Risco - Variável a ser Predita :\n",
      "\n",
      " ['Risco_Alto' 'Risco_Alto' 'Risco_Alto' 'Risco_Alto' 'Risco_Alto'\n",
      " 'Risco_Alto' 'Risco_Alto' 'Risco_Alto' 'Risco_Alto' 'Risco_Alto'\n",
      " 'Risco_Alto' 'Risco_Alto' 'Risco_Alto' 'Risco_Alto' 'Risco_Alto'\n",
      " 'Risco_Alto' 'Risco_Alto' 'Risco_Alto' 'Risco_Alto' 'Risco_Alto'\n",
      " 'Risco_Alto' 'Risco_Alto' 'Risco_Alto' 'Risco_Alto' 'Risco_Alto'\n",
      " 'Risco_Alto' 'Risco_Alto' 'Risco_Alto' 'Risco_Alto' 'Risco_Alto'\n",
      " 'Risco_Alto' 'Risco_Alto' 'Risco_Alto' 'Risco_Alto' 'Risco_Alto'\n",
      " 'Risco_Alto' 'Risco_Alto' 'Risco_Alto' 'Risco_Alto' 'Risco_Alto'\n",
      " 'Risco_Alto' 'Risco_Alto' 'Risco_Alto' 'Risco_Alto' 'Risco_Alto'\n",
      " 'Risco_Alto' 'Risco_Alto' 'Risco_Alto' 'Risco_Alto' 'Risco_Alto'\n",
      " 'Risco_Medio' 'Risco_Medio' 'Risco_Medio' 'Risco_Medio' 'Risco_Medio'\n",
      " 'Risco_Medio' 'Risco_Medio' 'Risco_Medio' 'Risco_Medio' 'Risco_Medio'\n",
      " 'Risco_Medio' 'Risco_Medio' 'Risco_Medio' 'Risco_Medio' 'Risco_Medio'\n",
      " 'Risco_Medio' 'Risco_Medio' 'Risco_Medio' 'Risco_Medio' 'Risco_Medio'\n",
      " 'Risco_Medio' 'Risco_Medio' 'Risco_Medio' 'Risco_Medio' 'Risco_Medio'\n",
      " 'Risco_Medio' 'Risco_Medio' 'Risco_Medio' 'Risco_Medio' 'Risco_Medio'\n",
      " 'Risco_Medio' 'Risco_Medio' 'Risco_Medio' 'Risco_Medio' 'Risco_Medio'\n",
      " 'Risco_Medio' 'Risco_Medio' 'Risco_Medio' 'Risco_Medio' 'Risco_Medio'\n",
      " 'Risco_Medio' 'Risco_Medio' 'Risco_Medio' 'Risco_Medio' 'Risco_Medio'\n",
      " 'Risco_Medio' 'Risco_Medio' 'Risco_Medio' 'Risco_Medio' 'Risco_Medio'\n",
      " 'Risco_Baixo' 'Risco_Baixo' 'Risco_Baixo' 'Risco_Baixo' 'Risco_Baixo'\n",
      " 'Risco_Baixo' 'Risco_Baixo' 'Risco_Baixo' 'Risco_Baixo' 'Risco_Baixo'\n",
      " 'Risco_Baixo' 'Risco_Baixo' 'Risco_Baixo' 'Risco_Baixo' 'Risco_Baixo'\n",
      " 'Risco_Baixo' 'Risco_Baixo' 'Risco_Baixo' 'Risco_Baixo' 'Risco_Baixo'\n",
      " 'Risco_Baixo' 'Risco_Baixo' 'Risco_Baixo' 'Risco_Baixo' 'Risco_Baixo'\n",
      " 'Risco_Baixo' 'Risco_Baixo' 'Risco_Baixo' 'Risco_Baixo' 'Risco_Baixo'\n",
      " 'Risco_Baixo' 'Risco_Baixo' 'Risco_Baixo' 'Risco_Baixo' 'Risco_Baixo'\n",
      " 'Risco_Baixo' 'Risco_Baixo' 'Risco_Baixo' 'Risco_Baixo' 'Risco_Baixo'\n",
      " 'Risco_Baixo' 'Risco_Baixo' 'Risco_Baixo' 'Risco_Baixo' 'Risco_Baixo'\n",
      " 'Risco_Baixo' 'Risco_Baixo' 'Risco_Baixo' 'Risco_Baixo' 'Risco_Baixo']\n"
     ]
    }
   ],
   "source": [
    "#Print das variáveis X e y\n",
    "print(\"\\nVariáveis de Entrada da avaliação:\\n\\n\", X)\n",
    "print(\"\\nRisco - Variável a ser Predita :\\n\\n\", y)"
   ]
  },
  {
   "cell_type": "markdown",
   "metadata": {
    "id": "TyrZDLaZku9L"
   },
   "source": [
    "### Separando os dados entre Treino e Teste"
   ]
  },
  {
   "cell_type": "code",
   "execution_count": 17,
   "metadata": {
    "id": "Q95yEPVNku9O"
   },
   "outputs": [],
   "source": [
    "# Dividindo o dataset em treino e teste\n",
    "from sklearn.model_selection import train_test_split\n",
    "X_train, X_test, y_train, y_test = train_test_split(X ,y, test_size=0.2)"
   ]
  },
  {
   "cell_type": "code",
   "execution_count": 18,
   "metadata": {
    "colab": {
     "base_uri": "https://localhost:8080/"
    },
    "id": "YcY06YGDn_dz",
    "outputId": "3c12e78c-58b3-4e35-d018-ee2e8bdb03c0"
   },
   "outputs": [
    {
     "name": "stdout",
     "output_type": "stream",
     "text": [
      "Dados de Treino :\n",
      "----------------\n",
      "\n",
      "X = \n",
      " [[5.4 3.7 1.5 0.2]\n",
      " [5.6 3.  4.5 1.5]]\n",
      "y = \n",
      " ['Risco_Alto' 'Risco_Medio']\n",
      "\n",
      "\n",
      "Dados de Teste :\n",
      "----------------\n",
      "\n",
      "X = \n",
      " [[5.  3.2 1.2 0.2]\n",
      " [6.7 3.1 5.6 2.4]]\n",
      "y = \n",
      " ['Risco_Alto' 'Risco_Baixo']\n"
     ]
    }
   ],
   "source": [
    "# Amostra dos grupos de treino e teste\n",
    "\n",
    "print(\"Dados de Treino :\\n----------------\\n\")\n",
    "print(\"X = \\n\", X_train[:2])\n",
    "print(\"y = \\n\", y_train[:2])\n",
    "\n",
    "print(\"\\n\\nDados de Teste :\\n----------------\\n\")\n",
    "print(\"X = \\n\",X_test[:2])\n",
    "print(\"y = \\n\", y_test[:2])"
   ]
  },
  {
   "cell_type": "code",
   "execution_count": 19,
   "metadata": {
    "colab": {
     "base_uri": "https://localhost:8080/"
    },
    "id": "TYVfb2fJku9U",
    "outputId": "3288bab1-c8ca-4599-b770-442ec090104f"
   },
   "outputs": [
    {
     "name": "stdout",
     "output_type": "stream",
     "text": [
      "Shape dos dados de treino é (120, 4)\n",
      "Shape dos dados de teste é (30, 4)\n"
     ]
    }
   ],
   "source": [
    "# Verificando o formato dos grupos\n",
    "\n",
    "print(f\"Shape dos dados de treino é {X_train.shape}\")\n",
    "print(f\"Shape dos dados de teste é {X_test.shape}\")"
   ]
  },
  {
   "cell_type": "markdown",
   "metadata": {
    "id": "8prDFmADku9W"
   },
   "source": [
    "### Padronizando as Features - As variáveis explicativas (variáveis de entrada)\n"
   ]
  },
  {
   "cell_type": "code",
   "execution_count": 20,
   "metadata": {
    "colab": {
     "base_uri": "https://localhost:8080/"
    },
    "id": "HVa6cZd8ku9W",
    "outputId": "88f73822-81a7-454a-8783-2d4c7e38d202"
   },
   "outputs": [
    {
     "name": "stdout",
     "output_type": "stream",
     "text": [
      "\n",
      "--------------------------------\n",
      "Dataset depois da padronização:\n",
      "--------------------------------\n",
      "\n",
      "\n",
      "X_train :\n",
      " [[-0.48525013  1.40608277 -1.23292066 -1.269112  ]\n",
      " [-0.24806066 -0.14596654  0.47026982  0.4450133 ]\n",
      " [ 0.58210249  0.51919745  1.32186506  1.76357122]\n",
      " [-0.24806066 -1.25457319  0.12963172 -0.08240987]\n",
      " [-0.84103433  0.51919745 -1.11937463 -0.87354462]]\n",
      "-------------------------\n",
      "\n",
      "X_test :\n",
      " [[-0.95962907  0.29747612 -1.40323971 -1.269112  ]\n",
      " [ 1.05648144  0.07575479  1.09477299  1.63171543]\n",
      " [ 0.22631829 -0.36768787  0.47026982  0.4450133 ]\n",
      " [ 1.05648144  0.51919745  1.15154601  1.23614805]\n",
      " [-1.31541328  0.29747612 -1.3464667  -1.269112  ]]\n"
     ]
    }
   ],
   "source": [
    "# Redimensionando os dados - feature scaling\n",
    "\n",
    "from sklearn.preprocessing import StandardScaler\n",
    "sc = StandardScaler()\n",
    "\n",
    "X_train = sc.fit_transform(X_train)\n",
    "X_test = sc.transform(X_test) \n",
    "\n",
    "print(\"\\n--------------------------------\\nDataset depois da padronização:\\n--------------------------------\\n\", )\n",
    "\n",
    "print(\"\\nX_train :\\n\", X_train[:5])\n",
    "print(\"-------------------------\")\n",
    "print(\"\\nX_test :\\n\", X_test[:5])"
   ]
  },
  {
   "cell_type": "markdown",
   "metadata": {
    "id": "Y3rduQxEku9Y"
   },
   "source": [
    "## 4° Construindo a Máquina Preditiva"
   ]
  },
  {
   "cell_type": "markdown",
   "metadata": {
    "id": "V4DWJ3hGhqEp"
   },
   "source": [
    "### 1° Versão da Máquina Preditiva: Criando um **baseline**\n",
    "\n",
    "Aqui nós vamos criar a primeira versão da Máquina Preditiva. Depois, vamos buscar formas de melhorar a assertividade do modelo. "
   ]
  },
  {
   "cell_type": "code",
   "execution_count": 21,
   "metadata": {
    "id": "8XbYFyk8oCrH"
   },
   "outputs": [],
   "source": [
    "# Importando a Biblioteca KNN\n",
    "\n",
    "from sklearn.neighbors import KNeighborsClassifier\n",
    "Maquina_Preditiva = KNeighborsClassifier(n_neighbors=30) #[1,10,30,50]"
   ]
  },
  {
   "cell_type": "code",
   "execution_count": 22,
   "metadata": {
    "id": "YFbVAkiOyMxG"
   },
   "outputs": [],
   "source": [
    "#Treinando a Máquina preditiva com os dados de treino\n",
    "\n",
    "Maquina_Preditiva = Maquina_Preditiva.fit(X_train,y_train)"
   ]
  },
  {
   "cell_type": "code",
   "execution_count": 23,
   "metadata": {
    "colab": {
     "base_uri": "https://localhost:8080/"
    },
    "id": "BBGyF8-OyQMi",
    "outputId": "ad4d05de-b206-419a-a659-c185eb7e1e8d"
   },
   "outputs": [
    {
     "name": "stdout",
     "output_type": "stream",
     "text": [
      "\n",
      "---------------------------\n",
      "\n",
      "Valores Reais com dados de teste :\n",
      " ['Risco_Alto' 'Risco_Baixo' 'Risco_Medio' 'Risco_Baixo' 'Risco_Alto'\n",
      " 'Risco_Baixo' 'Risco_Medio' 'Risco_Baixo' 'Risco_Baixo' 'Risco_Alto'\n",
      " 'Risco_Alto' 'Risco_Baixo' 'Risco_Baixo' 'Risco_Medio' 'Risco_Baixo'\n",
      " 'Risco_Alto' 'Risco_Baixo' 'Risco_Alto' 'Risco_Baixo' 'Risco_Baixo'\n",
      " 'Risco_Medio' 'Risco_Alto' 'Risco_Medio' 'Risco_Alto' 'Risco_Baixo'\n",
      " 'Risco_Medio' 'Risco_Medio' 'Risco_Medio' 'Risco_Medio' 'Risco_Baixo']\n",
      "\n",
      "---------------------------\n",
      "\n",
      "Valores Preditos com a Máquina Preditiva com dados de Teste :\n",
      " ['Risco_Alto' 'Risco_Baixo' 'Risco_Medio' 'Risco_Baixo' 'Risco_Alto'\n",
      " 'Risco_Baixo' 'Risco_Medio' 'Risco_Baixo' 'Risco_Baixo' 'Risco_Alto'\n",
      " 'Risco_Alto' 'Risco_Medio' 'Risco_Baixo' 'Risco_Medio' 'Risco_Medio'\n",
      " 'Risco_Alto' 'Risco_Baixo' 'Risco_Alto' 'Risco_Baixo' 'Risco_Baixo'\n",
      " 'Risco_Baixo' 'Risco_Alto' 'Risco_Medio' 'Risco_Alto' 'Risco_Medio'\n",
      " 'Risco_Medio' 'Risco_Medio' 'Risco_Medio' 'Risco_Medio' 'Risco_Baixo']\n"
     ]
    }
   ],
   "source": [
    "#Fazendo novas Previsões com os dados de teste\n",
    "y_pred = Maquina_Preditiva.predict(X_test)\n",
    "\n",
    "\n",
    "print(\"\\n---------------------------\\n\")\n",
    "print(\"Valores Reais com dados de teste :\\n\",y_test)\n",
    "\n",
    "print(\"\\n---------------------------\\n\")\n",
    "print(\"Valores Preditos com a Máquina Preditiva com dados de Teste :\\n\",y_pred)"
   ]
  },
  {
   "cell_type": "code",
   "execution_count": 24,
   "metadata": {
    "colab": {
     "base_uri": "https://localhost:8080/"
    },
    "id": "rPjCYxIm4yib",
    "outputId": "93ab743f-bfc3-45cc-de71-b5b37ba8e731"
   },
   "outputs": [
    {
     "data": {
      "text/plain": [
       "<bound method BaseEstimator.get_params of KNeighborsClassifier(n_neighbors=30)>"
      ]
     },
     "execution_count": 24,
     "metadata": {},
     "output_type": "execute_result"
    }
   ],
   "source": [
    "#Função que mostra os hyperparâmetros utilizados na construção da Máquina Preditiva \n",
    "Maquina_Preditiva.get_params"
   ]
  },
  {
   "cell_type": "markdown",
   "metadata": {
    "id": "7zs6B8NF5asB"
   },
   "source": [
    "## 5° Avaliando a Máquina Preditiva"
   ]
  },
  {
   "cell_type": "code",
   "execution_count": 25,
   "metadata": {
    "colab": {
     "base_uri": "https://localhost:8080/"
    },
    "id": "ZAwiJVWuoHEX",
    "outputId": "69374b9e-79fb-4ce5-c95d-9e2e94806b58"
   },
   "outputs": [
    {
     "name": "stdout",
     "output_type": "stream",
     "text": [
      "Acurácia da Máquina =  0.87\n"
     ]
    }
   ],
   "source": [
    "# Calculando a Acurácia\n",
    "\n",
    "from sklearn import metrics\n",
    "print(\"Acurácia da Máquina = \", metrics.accuracy_score(y_test, y_pred).round(2))"
   ]
  },
  {
   "cell_type": "code",
   "execution_count": 26,
   "metadata": {
    "colab": {
     "base_uri": "https://localhost:8080/",
     "height": 267
    },
    "id": "dIlExZQVjiTL",
    "outputId": "85ab3b32-3b08-4b59-95f7-8db62e992742"
   },
   "outputs": [
    {
     "name": "stdout",
     "output_type": "stream",
     "text": [
      "\n",
      "Real vs Predito \n",
      "------------------------------\n",
      "\n"
     ]
    },
    {
     "data": {
      "text/html": [
       "<div>\n",
       "<style scoped>\n",
       "    .dataframe tbody tr th:only-of-type {\n",
       "        vertical-align: middle;\n",
       "    }\n",
       "\n",
       "    .dataframe tbody tr th {\n",
       "        vertical-align: top;\n",
       "    }\n",
       "\n",
       "    .dataframe thead th {\n",
       "        text-align: right;\n",
       "    }\n",
       "</style>\n",
       "<table border=\"1\" class=\"dataframe\">\n",
       "  <thead>\n",
       "    <tr style=\"text-align: right;\">\n",
       "      <th></th>\n",
       "      <th>Real</th>\n",
       "      <th>Predito</th>\n",
       "    </tr>\n",
       "  </thead>\n",
       "  <tbody>\n",
       "    <tr>\n",
       "      <th>0</th>\n",
       "      <td>Risco_Alto</td>\n",
       "      <td>Risco_Alto</td>\n",
       "    </tr>\n",
       "    <tr>\n",
       "      <th>1</th>\n",
       "      <td>Risco_Baixo</td>\n",
       "      <td>Risco_Baixo</td>\n",
       "    </tr>\n",
       "    <tr>\n",
       "      <th>2</th>\n",
       "      <td>Risco_Medio</td>\n",
       "      <td>Risco_Medio</td>\n",
       "    </tr>\n",
       "    <tr>\n",
       "      <th>3</th>\n",
       "      <td>Risco_Baixo</td>\n",
       "      <td>Risco_Baixo</td>\n",
       "    </tr>\n",
       "    <tr>\n",
       "      <th>4</th>\n",
       "      <td>Risco_Alto</td>\n",
       "      <td>Risco_Alto</td>\n",
       "    </tr>\n",
       "  </tbody>\n",
       "</table>\n",
       "</div>"
      ],
      "text/plain": [
       "          Real      Predito\n",
       "0   Risco_Alto   Risco_Alto\n",
       "1  Risco_Baixo  Risco_Baixo\n",
       "2  Risco_Medio  Risco_Medio\n",
       "3  Risco_Baixo  Risco_Baixo\n",
       "4   Risco_Alto   Risco_Alto"
      ]
     },
     "execution_count": 26,
     "metadata": {},
     "output_type": "execute_result"
    }
   ],
   "source": [
    "# Comparando Real e Predito com dados de Teste\n",
    "print(\"\\nReal vs Predito \\n------------------------------\\n\")\n",
    "error_df = pd.DataFrame({\"Real\" : y_test,\n",
    "                         \"Predito\" : y_pred})\n",
    "\n",
    "error_df.head(5)"
   ]
  },
  {
   "cell_type": "code",
   "execution_count": 27,
   "metadata": {
    "colab": {
     "base_uri": "https://localhost:8080/"
    },
    "id": "LVbeqzMaku9f",
    "outputId": "9f236a46-8ffd-469f-ad4f-aa7b98a9ddfe"
   },
   "outputs": [
    {
     "name": "stdout",
     "output_type": "stream",
     "text": [
      "[[ 8  0  0]\n",
      " [ 0 10  3]\n",
      " [ 0  1  8]]\n",
      "              precision    recall  f1-score   support\n",
      "\n",
      "  Risco_Alto       1.00      1.00      1.00         8\n",
      " Risco_Baixo       0.91      0.77      0.83        13\n",
      " Risco_Medio       0.73      0.89      0.80         9\n",
      "\n",
      "    accuracy                           0.87        30\n",
      "   macro avg       0.88      0.89      0.88        30\n",
      "weighted avg       0.88      0.87      0.87        30\n",
      "\n"
     ]
    }
   ],
   "source": [
    "#Usando a confusion matrix  e o classification report para avaliar a acurácia e demais indicadores\n",
    "\n",
    "cm = confusion_matrix(y_test,y_pred)\n",
    "cr = classification_report(y_test, y_pred)\n",
    "print(cm)\n",
    "print(cr)"
   ]
  },
  {
   "cell_type": "markdown",
   "metadata": {
    "id": "cUQ5JbQk56wl"
   },
   "source": [
    "## 2° Versão da Máquina Preditiva: Máquina Definitiva"
   ]
  },
  {
   "cell_type": "code",
   "execution_count": 28,
   "metadata": {
    "id": "z9JPD4YM59KP"
   },
   "outputs": [],
   "source": [
    "# Importando a Biblioteca do SVM\n",
    "from sklearn.svm import SVC\n",
    "\n",
    "classifier = SVC(kernel='linear',             # ['linear', 'rbf']\n",
    "                 gamma= 1e-5  ,               # [1e-1, 1e-2, 1e-3, 1e-5]\n",
    "                 C=10,                        # [10.0, 100.0, 1000.0, 10000.0]\n",
    "                 random_state=7)"
   ]
  },
  {
   "cell_type": "code",
   "execution_count": 29,
   "metadata": {
    "colab": {
     "base_uri": "https://localhost:8080/"
    },
    "id": "uRL7gP752471",
    "outputId": "a585e0f7-1022-4457-9688-24f7ff167e05"
   },
   "outputs": [
    {
     "data": {
      "text/plain": [
       "SVC(C=10, gamma=1e-05, kernel='linear', random_state=7)"
      ]
     },
     "execution_count": 29,
     "metadata": {},
     "output_type": "execute_result"
    }
   ],
   "source": [
    "#Treinando a Máquina com o SVC\n",
    "classifier.fit(X_train,y_train)\n",
    "\n"
   ]
  },
  {
   "cell_type": "code",
   "execution_count": 30,
   "metadata": {
    "colab": {
     "base_uri": "https://localhost:8080/"
    },
    "id": "lNEz5Vc527Ez",
    "outputId": "4dfa443f-270c-4f6d-bb40-e6b9ea152b57"
   },
   "outputs": [
    {
     "name": "stdout",
     "output_type": "stream",
     "text": [
      "\n",
      "---------------------------\n",
      "\n",
      "Predicted Values for Test Set :\n",
      " ['Risco_Alto' 'Risco_Baixo' 'Risco_Medio' 'Risco_Baixo' 'Risco_Alto'\n",
      " 'Risco_Medio' 'Risco_Medio' 'Risco_Baixo' 'Risco_Baixo' 'Risco_Alto'\n",
      " 'Risco_Alto' 'Risco_Baixo' 'Risco_Baixo' 'Risco_Medio' 'Risco_Baixo'\n",
      " 'Risco_Alto' 'Risco_Baixo' 'Risco_Alto' 'Risco_Baixo' 'Risco_Baixo'\n",
      " 'Risco_Medio' 'Risco_Alto' 'Risco_Medio' 'Risco_Alto' 'Risco_Medio'\n",
      " 'Risco_Medio' 'Risco_Baixo' 'Risco_Medio' 'Risco_Medio' 'Risco_Baixo']\n",
      "\n",
      "---------------------------\n",
      "\n",
      "Actual Values for Test Set :\n",
      " ['Risco_Alto' 'Risco_Baixo' 'Risco_Medio' 'Risco_Baixo' 'Risco_Alto'\n",
      " 'Risco_Baixo' 'Risco_Medio' 'Risco_Baixo' 'Risco_Baixo' 'Risco_Alto'\n",
      " 'Risco_Alto' 'Risco_Baixo' 'Risco_Baixo' 'Risco_Medio' 'Risco_Baixo'\n",
      " 'Risco_Alto' 'Risco_Baixo' 'Risco_Alto' 'Risco_Baixo' 'Risco_Baixo'\n",
      " 'Risco_Medio' 'Risco_Alto' 'Risco_Medio' 'Risco_Alto' 'Risco_Baixo'\n",
      " 'Risco_Medio' 'Risco_Medio' 'Risco_Medio' 'Risco_Medio' 'Risco_Baixo']\n"
     ]
    }
   ],
   "source": [
    "#Fazendo novas previsões com os dados de teste\n",
    "y_pred = classifier.predict(X_test)\n",
    "\n",
    "print(\"\\n---------------------------\\n\")\n",
    "print(\"Predicted Values for Test Set :\\n\",y_pred)\n",
    "print(\"\\n---------------------------\\n\")\n",
    "print(\"Actual Values for Test Set :\\n\",y_test)"
   ]
  },
  {
   "cell_type": "code",
   "execution_count": 31,
   "metadata": {
    "colab": {
     "base_uri": "https://localhost:8080/"
    },
    "id": "i55vwLwQQh2f",
    "outputId": "9f378822-e7b4-4d1e-b310-ee5fc10aa6ed"
   },
   "outputs": [
    {
     "data": {
      "text/plain": [
       "SVC(C=10, gamma=1e-05, kernel='linear', random_state=7)"
      ]
     },
     "execution_count": 31,
     "metadata": {},
     "output_type": "execute_result"
    }
   ],
   "source": [
    "#Imprimindo os hyperparâmetros utilizados na criação da Maquina Preditiva Definitiva\n",
    "classifier"
   ]
  },
  {
   "cell_type": "code",
   "execution_count": 32,
   "metadata": {
    "colab": {
     "base_uri": "https://localhost:8080/",
     "height": 285
    },
    "id": "ibAFbOsE59KT",
    "outputId": "2737b9f3-43a2-4fe7-dda9-50aa3c1dfdc0"
   },
   "outputs": [
    {
     "name": "stdout",
     "output_type": "stream",
     "text": [
      "Acurácia =  0.9\n",
      "\n",
      "Actual vs Predicted  \n",
      "------------------------------\n",
      "\n"
     ]
    },
    {
     "data": {
      "text/html": [
       "<div>\n",
       "<style scoped>\n",
       "    .dataframe tbody tr th:only-of-type {\n",
       "        vertical-align: middle;\n",
       "    }\n",
       "\n",
       "    .dataframe tbody tr th {\n",
       "        vertical-align: top;\n",
       "    }\n",
       "\n",
       "    .dataframe thead th {\n",
       "        text-align: right;\n",
       "    }\n",
       "</style>\n",
       "<table border=\"1\" class=\"dataframe\">\n",
       "  <thead>\n",
       "    <tr style=\"text-align: right;\">\n",
       "      <th></th>\n",
       "      <th>Actual</th>\n",
       "      <th>Predicted</th>\n",
       "    </tr>\n",
       "  </thead>\n",
       "  <tbody>\n",
       "    <tr>\n",
       "      <th>0</th>\n",
       "      <td>Risco_Alto</td>\n",
       "      <td>Risco_Alto</td>\n",
       "    </tr>\n",
       "    <tr>\n",
       "      <th>1</th>\n",
       "      <td>Risco_Baixo</td>\n",
       "      <td>Risco_Baixo</td>\n",
       "    </tr>\n",
       "    <tr>\n",
       "      <th>2</th>\n",
       "      <td>Risco_Medio</td>\n",
       "      <td>Risco_Medio</td>\n",
       "    </tr>\n",
       "    <tr>\n",
       "      <th>3</th>\n",
       "      <td>Risco_Baixo</td>\n",
       "      <td>Risco_Baixo</td>\n",
       "    </tr>\n",
       "    <tr>\n",
       "      <th>4</th>\n",
       "      <td>Risco_Alto</td>\n",
       "      <td>Risco_Alto</td>\n",
       "    </tr>\n",
       "  </tbody>\n",
       "</table>\n",
       "</div>"
      ],
      "text/plain": [
       "        Actual    Predicted\n",
       "0   Risco_Alto   Risco_Alto\n",
       "1  Risco_Baixo  Risco_Baixo\n",
       "2  Risco_Medio  Risco_Medio\n",
       "3  Risco_Baixo  Risco_Baixo\n",
       "4   Risco_Alto   Risco_Alto"
      ]
     },
     "execution_count": 32,
     "metadata": {},
     "output_type": "execute_result"
    }
   ],
   "source": [
    "# Calculando a Acurácia da Máquina Preditiva\n",
    "\n",
    "print(\"Acurácia = \", accuracy_score(y_test, y_pred).round(2))\n",
    "\n",
    "# Comparando valores Reais com Preditos pela Máquina\n",
    "print(\"\\nActual vs Predicted  \\n------------------------------\\n\")\n",
    "error_df = pd.DataFrame({\"Actual\" : y_test,\n",
    "                         \"Predicted\" : y_pred})\n",
    "\n",
    "error_df.head()"
   ]
  },
  {
   "cell_type": "code",
   "execution_count": 33,
   "metadata": {
    "id": "MnVF8dG7qvlq"
   },
   "outputs": [],
   "source": [
    "#Usando a confusion matrix e o classification report para avaliar a Máquina\n",
    "\n",
    "cm = confusion_matrix(y_test,y_pred)\n",
    "cr = classification_report(y_test, y_pred)\n"
   ]
  },
  {
   "cell_type": "code",
   "execution_count": 34,
   "metadata": {
    "colab": {
     "base_uri": "https://localhost:8080/"
    },
    "id": "e3b7ZZOb6KkW",
    "outputId": "6f89463f-8e95-4d59-c0dc-d9da56a85138"
   },
   "outputs": [
    {
     "name": "stdout",
     "output_type": "stream",
     "text": [
      "[[ 8  0  0]\n",
      " [ 0 11  2]\n",
      " [ 0  1  8]]\n",
      "              precision    recall  f1-score   support\n",
      "\n",
      "  Risco_Alto       1.00      1.00      1.00         8\n",
      " Risco_Baixo       0.92      0.85      0.88        13\n",
      " Risco_Medio       0.80      0.89      0.84         9\n",
      "\n",
      "    accuracy                           0.90        30\n",
      "   macro avg       0.91      0.91      0.91        30\n",
      "weighted avg       0.90      0.90      0.90        30\n",
      "\n"
     ]
    }
   ],
   "source": [
    "# Imprimindo a Confusion Matrix e o Classification Report\n",
    "\n",
    "print(cm)\n",
    "print(cr)"
   ]
  }
 ],
 "metadata": {
  "colab": {
   "collapsed_sections": [],
   "name": "Sistema_Classificação_Risco-vf2.ipynb",
   "provenance": []
  },
  "kernelspec": {
   "display_name": "Python 3",
   "language": "python",
   "name": "python3"
  },
  "language_info": {
   "codemirror_mode": {
    "name": "ipython",
    "version": 3
   },
   "file_extension": ".py",
   "mimetype": "text/x-python",
   "name": "python",
   "nbconvert_exporter": "python",
   "pygments_lexer": "ipython3",
   "version": "3.8.8"
  }
 },
 "nbformat": 4,
 "nbformat_minor": 1
}
